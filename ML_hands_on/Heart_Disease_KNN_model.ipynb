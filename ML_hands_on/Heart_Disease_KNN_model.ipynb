{
  "cells": [
    {
      "cell_type": "markdown",
      "metadata": {
        "id": "Onr-MJw7gnht"
      },
      "source": [
        "# KNN and Logistic Regression to Predict Heart Diseases\n",
        "\n",
        "According to the CDC, heart disease is one of the leading causes of death for people in the US. About half of all Americans (47%) have at least 1 of 3 key risk factors for heart disease: high blood pressure, high cholesterol, and smoking. Other key indicator include diabetic status, obesity (high BMI), not getting enough physical activity or drinking too much alcohol. Detecting and preventing the factors that have the greatest impact on heart disease is very important in healthcare.\n",
        "\n",
        "For this project, I'll load the heart disease dataset (available on https://www.kaggle.com/code/andls555/heart-disease-prediction/data) and use this data to train and test 1) a logistic regression classifier, and then 2) a KNN classifier using the scikit-learn classes, LogisticRegression and KNeighborsClassifier respectively. Subsequently, I'll then compare and contrast the results using classifier evaluation methods in sklearn.metrics."
      ],
      "id": "Onr-MJw7gnht"
    },
    {
      "cell_type": "code",
      "execution_count": null,
      "metadata": {
        "execution": {
          "iopub.execute_input": "2022-04-04T08:03:48.862391Z",
          "iopub.status.busy": "2022-04-04T08:03:48.860859Z",
          "iopub.status.idle": "2022-04-04T08:03:50.470136Z",
          "shell.execute_reply": "2022-04-04T08:03:50.469510Z",
          "shell.execute_reply.started": "2022-04-04T07:28:16.041964Z"
        },
        "papermill": {
          "duration": 1.644062,
          "end_time": "2022-04-04T08:03:50.470298",
          "exception": false,
          "start_time": "2022-04-04T08:03:48.826236",
          "status": "completed"
        },
        "tags": [],
        "id": "ZMeRrnWtgnhu"
      },
      "outputs": [],
      "source": [
        "import matplotlib.pyplot as plt\n",
        "import seaborn as sns\n",
        "import pandas as pd\n",
        "data=pd.read_csv(\"../input/personal-key-indicators-of-heart-disease/heart_2020_cleaned.csv\")"
      ],
      "id": "ZMeRrnWtgnhu"
    },
    {
      "cell_type": "code",
      "execution_count": null,
      "metadata": {
        "execution": {
          "iopub.execute_input": "2022-04-04T08:03:50.540162Z",
          "iopub.status.busy": "2022-04-04T08:03:50.539433Z",
          "iopub.status.idle": "2022-04-04T08:03:50.576549Z",
          "shell.execute_reply": "2022-04-04T08:03:50.576124Z",
          "shell.execute_reply.started": "2022-04-04T07:28:17.677322Z"
        },
        "papermill": {
          "duration": 0.074034,
          "end_time": "2022-04-04T08:03:50.576663",
          "exception": false,
          "start_time": "2022-04-04T08:03:50.502629",
          "status": "completed"
        },
        "tags": [],
        "id": "zZuWTgi7gnhv",
        "outputId": "e4ce142b-4ba6-40d8-d76e-4d8188407581"
      },
      "outputs": [
        {
          "data": {
            "text/html": [
              "<div>\n",
              "<style scoped>\n",
              "    .dataframe tbody tr th:only-of-type {\n",
              "        vertical-align: middle;\n",
              "    }\n",
              "\n",
              "    .dataframe tbody tr th {\n",
              "        vertical-align: top;\n",
              "    }\n",
              "\n",
              "    .dataframe thead th {\n",
              "        text-align: right;\n",
              "    }\n",
              "</style>\n",
              "<table border=\"1\" class=\"dataframe\">\n",
              "  <thead>\n",
              "    <tr style=\"text-align: right;\">\n",
              "      <th></th>\n",
              "      <th>HeartDisease</th>\n",
              "      <th>BMI</th>\n",
              "      <th>Smoking</th>\n",
              "      <th>AlcoholDrinking</th>\n",
              "      <th>Stroke</th>\n",
              "      <th>PhysicalHealth</th>\n",
              "      <th>MentalHealth</th>\n",
              "      <th>DiffWalking</th>\n",
              "      <th>Sex</th>\n",
              "      <th>AgeCategory</th>\n",
              "      <th>Race</th>\n",
              "      <th>Diabetic</th>\n",
              "      <th>PhysicalActivity</th>\n",
              "      <th>GenHealth</th>\n",
              "      <th>SleepTime</th>\n",
              "      <th>Asthma</th>\n",
              "      <th>KidneyDisease</th>\n",
              "      <th>SkinCancer</th>\n",
              "    </tr>\n",
              "  </thead>\n",
              "  <tbody>\n",
              "    <tr>\n",
              "      <th>0</th>\n",
              "      <td>No</td>\n",
              "      <td>16.60</td>\n",
              "      <td>Yes</td>\n",
              "      <td>No</td>\n",
              "      <td>No</td>\n",
              "      <td>3.0</td>\n",
              "      <td>30.0</td>\n",
              "      <td>No</td>\n",
              "      <td>Female</td>\n",
              "      <td>55-59</td>\n",
              "      <td>White</td>\n",
              "      <td>Yes</td>\n",
              "      <td>Yes</td>\n",
              "      <td>Very good</td>\n",
              "      <td>5.0</td>\n",
              "      <td>Yes</td>\n",
              "      <td>No</td>\n",
              "      <td>Yes</td>\n",
              "    </tr>\n",
              "    <tr>\n",
              "      <th>1</th>\n",
              "      <td>No</td>\n",
              "      <td>20.34</td>\n",
              "      <td>No</td>\n",
              "      <td>No</td>\n",
              "      <td>Yes</td>\n",
              "      <td>0.0</td>\n",
              "      <td>0.0</td>\n",
              "      <td>No</td>\n",
              "      <td>Female</td>\n",
              "      <td>80 or older</td>\n",
              "      <td>White</td>\n",
              "      <td>No</td>\n",
              "      <td>Yes</td>\n",
              "      <td>Very good</td>\n",
              "      <td>7.0</td>\n",
              "      <td>No</td>\n",
              "      <td>No</td>\n",
              "      <td>No</td>\n",
              "    </tr>\n",
              "    <tr>\n",
              "      <th>2</th>\n",
              "      <td>No</td>\n",
              "      <td>26.58</td>\n",
              "      <td>Yes</td>\n",
              "      <td>No</td>\n",
              "      <td>No</td>\n",
              "      <td>20.0</td>\n",
              "      <td>30.0</td>\n",
              "      <td>No</td>\n",
              "      <td>Male</td>\n",
              "      <td>65-69</td>\n",
              "      <td>White</td>\n",
              "      <td>Yes</td>\n",
              "      <td>Yes</td>\n",
              "      <td>Fair</td>\n",
              "      <td>8.0</td>\n",
              "      <td>Yes</td>\n",
              "      <td>No</td>\n",
              "      <td>No</td>\n",
              "    </tr>\n",
              "    <tr>\n",
              "      <th>3</th>\n",
              "      <td>No</td>\n",
              "      <td>24.21</td>\n",
              "      <td>No</td>\n",
              "      <td>No</td>\n",
              "      <td>No</td>\n",
              "      <td>0.0</td>\n",
              "      <td>0.0</td>\n",
              "      <td>No</td>\n",
              "      <td>Female</td>\n",
              "      <td>75-79</td>\n",
              "      <td>White</td>\n",
              "      <td>No</td>\n",
              "      <td>No</td>\n",
              "      <td>Good</td>\n",
              "      <td>6.0</td>\n",
              "      <td>No</td>\n",
              "      <td>No</td>\n",
              "      <td>Yes</td>\n",
              "    </tr>\n",
              "    <tr>\n",
              "      <th>4</th>\n",
              "      <td>No</td>\n",
              "      <td>23.71</td>\n",
              "      <td>No</td>\n",
              "      <td>No</td>\n",
              "      <td>No</td>\n",
              "      <td>28.0</td>\n",
              "      <td>0.0</td>\n",
              "      <td>Yes</td>\n",
              "      <td>Female</td>\n",
              "      <td>40-44</td>\n",
              "      <td>White</td>\n",
              "      <td>No</td>\n",
              "      <td>Yes</td>\n",
              "      <td>Very good</td>\n",
              "      <td>8.0</td>\n",
              "      <td>No</td>\n",
              "      <td>No</td>\n",
              "      <td>No</td>\n",
              "    </tr>\n",
              "  </tbody>\n",
              "</table>\n",
              "</div>"
            ],
            "text/plain": [
              "  HeartDisease    BMI Smoking AlcoholDrinking Stroke  PhysicalHealth  \\\n",
              "0           No  16.60     Yes              No     No             3.0   \n",
              "1           No  20.34      No              No    Yes             0.0   \n",
              "2           No  26.58     Yes              No     No            20.0   \n",
              "3           No  24.21      No              No     No             0.0   \n",
              "4           No  23.71      No              No     No            28.0   \n",
              "\n",
              "   MentalHealth DiffWalking     Sex  AgeCategory   Race Diabetic  \\\n",
              "0          30.0          No  Female        55-59  White      Yes   \n",
              "1           0.0          No  Female  80 or older  White       No   \n",
              "2          30.0          No    Male        65-69  White      Yes   \n",
              "3           0.0          No  Female        75-79  White       No   \n",
              "4           0.0         Yes  Female        40-44  White       No   \n",
              "\n",
              "  PhysicalActivity  GenHealth  SleepTime Asthma KidneyDisease SkinCancer  \n",
              "0              Yes  Very good        5.0    Yes            No        Yes  \n",
              "1              Yes  Very good        7.0     No            No         No  \n",
              "2              Yes       Fair        8.0    Yes            No         No  \n",
              "3               No       Good        6.0     No            No        Yes  \n",
              "4              Yes  Very good        8.0     No            No         No  "
            ]
          },
          "execution_count": 2,
          "metadata": {},
          "output_type": "execute_result"
        }
      ],
      "source": [
        "data.head()"
      ],
      "id": "zZuWTgi7gnhv"
    },
    {
      "cell_type": "code",
      "execution_count": null,
      "metadata": {
        "execution": {
          "iopub.execute_input": "2022-04-04T08:03:50.700496Z",
          "iopub.status.busy": "2022-04-04T08:03:50.699604Z",
          "iopub.status.idle": "2022-04-04T08:03:50.703174Z",
          "shell.execute_reply": "2022-04-04T08:03:50.701222Z",
          "shell.execute_reply.started": "2022-04-04T07:28:17.707539Z"
        },
        "papermill": {
          "duration": 0.070068,
          "end_time": "2022-04-04T08:03:50.703331",
          "exception": false,
          "start_time": "2022-04-04T08:03:50.633263",
          "status": "completed"
        },
        "tags": [],
        "id": "TsqmVACmgnhv",
        "outputId": "de4702b5-421e-4ab7-a210-0c919acab434"
      },
      "outputs": [
        {
          "data": {
            "text/plain": [
              "(319795, 18)"
            ]
          },
          "execution_count": 3,
          "metadata": {},
          "output_type": "execute_result"
        }
      ],
      "source": [
        "data.shape"
      ],
      "id": "TsqmVACmgnhv"
    },
    {
      "cell_type": "code",
      "execution_count": null,
      "metadata": {
        "execution": {
          "iopub.execute_input": "2022-04-04T08:03:50.811099Z",
          "iopub.status.busy": "2022-04-04T08:03:50.810198Z",
          "iopub.status.idle": "2022-04-04T08:03:51.992365Z",
          "shell.execute_reply": "2022-04-04T08:03:51.991934Z",
          "shell.execute_reply.started": "2022-04-04T07:28:17.717731Z"
        },
        "papermill": {
          "duration": 1.238396,
          "end_time": "2022-04-04T08:03:51.992485",
          "exception": false,
          "start_time": "2022-04-04T08:03:50.754089",
          "status": "completed"
        },
        "tags": [],
        "id": "NzVzngwognhw",
        "outputId": "7426ddb6-9323-45b0-c8a2-3b5938858c4b"
      },
      "outputs": [
        {
          "data": {
            "text/html": [
              "<div>\n",
              "<style scoped>\n",
              "    .dataframe tbody tr th:only-of-type {\n",
              "        vertical-align: middle;\n",
              "    }\n",
              "\n",
              "    .dataframe tbody tr th {\n",
              "        vertical-align: top;\n",
              "    }\n",
              "\n",
              "    .dataframe thead th {\n",
              "        text-align: right;\n",
              "    }\n",
              "</style>\n",
              "<table border=\"1\" class=\"dataframe\">\n",
              "  <thead>\n",
              "    <tr style=\"text-align: right;\">\n",
              "      <th></th>\n",
              "      <th>count</th>\n",
              "      <th>unique</th>\n",
              "      <th>top</th>\n",
              "      <th>freq</th>\n",
              "      <th>mean</th>\n",
              "      <th>std</th>\n",
              "      <th>min</th>\n",
              "      <th>25%</th>\n",
              "      <th>50%</th>\n",
              "      <th>75%</th>\n",
              "      <th>max</th>\n",
              "    </tr>\n",
              "  </thead>\n",
              "  <tbody>\n",
              "    <tr>\n",
              "      <th>HeartDisease</th>\n",
              "      <td>319795</td>\n",
              "      <td>2</td>\n",
              "      <td>No</td>\n",
              "      <td>292422</td>\n",
              "      <td>NaN</td>\n",
              "      <td>NaN</td>\n",
              "      <td>NaN</td>\n",
              "      <td>NaN</td>\n",
              "      <td>NaN</td>\n",
              "      <td>NaN</td>\n",
              "      <td>NaN</td>\n",
              "    </tr>\n",
              "    <tr>\n",
              "      <th>BMI</th>\n",
              "      <td>319795.0</td>\n",
              "      <td>NaN</td>\n",
              "      <td>NaN</td>\n",
              "      <td>NaN</td>\n",
              "      <td>28.325399</td>\n",
              "      <td>6.3561</td>\n",
              "      <td>12.02</td>\n",
              "      <td>24.03</td>\n",
              "      <td>27.34</td>\n",
              "      <td>31.42</td>\n",
              "      <td>94.85</td>\n",
              "    </tr>\n",
              "    <tr>\n",
              "      <th>Smoking</th>\n",
              "      <td>319795</td>\n",
              "      <td>2</td>\n",
              "      <td>No</td>\n",
              "      <td>187887</td>\n",
              "      <td>NaN</td>\n",
              "      <td>NaN</td>\n",
              "      <td>NaN</td>\n",
              "      <td>NaN</td>\n",
              "      <td>NaN</td>\n",
              "      <td>NaN</td>\n",
              "      <td>NaN</td>\n",
              "    </tr>\n",
              "    <tr>\n",
              "      <th>AlcoholDrinking</th>\n",
              "      <td>319795</td>\n",
              "      <td>2</td>\n",
              "      <td>No</td>\n",
              "      <td>298018</td>\n",
              "      <td>NaN</td>\n",
              "      <td>NaN</td>\n",
              "      <td>NaN</td>\n",
              "      <td>NaN</td>\n",
              "      <td>NaN</td>\n",
              "      <td>NaN</td>\n",
              "      <td>NaN</td>\n",
              "    </tr>\n",
              "    <tr>\n",
              "      <th>Stroke</th>\n",
              "      <td>319795</td>\n",
              "      <td>2</td>\n",
              "      <td>No</td>\n",
              "      <td>307726</td>\n",
              "      <td>NaN</td>\n",
              "      <td>NaN</td>\n",
              "      <td>NaN</td>\n",
              "      <td>NaN</td>\n",
              "      <td>NaN</td>\n",
              "      <td>NaN</td>\n",
              "      <td>NaN</td>\n",
              "    </tr>\n",
              "    <tr>\n",
              "      <th>PhysicalHealth</th>\n",
              "      <td>319795.0</td>\n",
              "      <td>NaN</td>\n",
              "      <td>NaN</td>\n",
              "      <td>NaN</td>\n",
              "      <td>3.37171</td>\n",
              "      <td>7.95085</td>\n",
              "      <td>0.0</td>\n",
              "      <td>0.0</td>\n",
              "      <td>0.0</td>\n",
              "      <td>2.0</td>\n",
              "      <td>30.0</td>\n",
              "    </tr>\n",
              "    <tr>\n",
              "      <th>MentalHealth</th>\n",
              "      <td>319795.0</td>\n",
              "      <td>NaN</td>\n",
              "      <td>NaN</td>\n",
              "      <td>NaN</td>\n",
              "      <td>3.898366</td>\n",
              "      <td>7.955235</td>\n",
              "      <td>0.0</td>\n",
              "      <td>0.0</td>\n",
              "      <td>0.0</td>\n",
              "      <td>3.0</td>\n",
              "      <td>30.0</td>\n",
              "    </tr>\n",
              "    <tr>\n",
              "      <th>DiffWalking</th>\n",
              "      <td>319795</td>\n",
              "      <td>2</td>\n",
              "      <td>No</td>\n",
              "      <td>275385</td>\n",
              "      <td>NaN</td>\n",
              "      <td>NaN</td>\n",
              "      <td>NaN</td>\n",
              "      <td>NaN</td>\n",
              "      <td>NaN</td>\n",
              "      <td>NaN</td>\n",
              "      <td>NaN</td>\n",
              "    </tr>\n",
              "    <tr>\n",
              "      <th>Sex</th>\n",
              "      <td>319795</td>\n",
              "      <td>2</td>\n",
              "      <td>Female</td>\n",
              "      <td>167805</td>\n",
              "      <td>NaN</td>\n",
              "      <td>NaN</td>\n",
              "      <td>NaN</td>\n",
              "      <td>NaN</td>\n",
              "      <td>NaN</td>\n",
              "      <td>NaN</td>\n",
              "      <td>NaN</td>\n",
              "    </tr>\n",
              "    <tr>\n",
              "      <th>AgeCategory</th>\n",
              "      <td>319795</td>\n",
              "      <td>13</td>\n",
              "      <td>65-69</td>\n",
              "      <td>34151</td>\n",
              "      <td>NaN</td>\n",
              "      <td>NaN</td>\n",
              "      <td>NaN</td>\n",
              "      <td>NaN</td>\n",
              "      <td>NaN</td>\n",
              "      <td>NaN</td>\n",
              "      <td>NaN</td>\n",
              "    </tr>\n",
              "    <tr>\n",
              "      <th>Race</th>\n",
              "      <td>319795</td>\n",
              "      <td>6</td>\n",
              "      <td>White</td>\n",
              "      <td>245212</td>\n",
              "      <td>NaN</td>\n",
              "      <td>NaN</td>\n",
              "      <td>NaN</td>\n",
              "      <td>NaN</td>\n",
              "      <td>NaN</td>\n",
              "      <td>NaN</td>\n",
              "      <td>NaN</td>\n",
              "    </tr>\n",
              "    <tr>\n",
              "      <th>Diabetic</th>\n",
              "      <td>319795</td>\n",
              "      <td>4</td>\n",
              "      <td>No</td>\n",
              "      <td>269653</td>\n",
              "      <td>NaN</td>\n",
              "      <td>NaN</td>\n",
              "      <td>NaN</td>\n",
              "      <td>NaN</td>\n",
              "      <td>NaN</td>\n",
              "      <td>NaN</td>\n",
              "      <td>NaN</td>\n",
              "    </tr>\n",
              "    <tr>\n",
              "      <th>PhysicalActivity</th>\n",
              "      <td>319795</td>\n",
              "      <td>2</td>\n",
              "      <td>Yes</td>\n",
              "      <td>247957</td>\n",
              "      <td>NaN</td>\n",
              "      <td>NaN</td>\n",
              "      <td>NaN</td>\n",
              "      <td>NaN</td>\n",
              "      <td>NaN</td>\n",
              "      <td>NaN</td>\n",
              "      <td>NaN</td>\n",
              "    </tr>\n",
              "    <tr>\n",
              "      <th>GenHealth</th>\n",
              "      <td>319795</td>\n",
              "      <td>5</td>\n",
              "      <td>Very good</td>\n",
              "      <td>113858</td>\n",
              "      <td>NaN</td>\n",
              "      <td>NaN</td>\n",
              "      <td>NaN</td>\n",
              "      <td>NaN</td>\n",
              "      <td>NaN</td>\n",
              "      <td>NaN</td>\n",
              "      <td>NaN</td>\n",
              "    </tr>\n",
              "    <tr>\n",
              "      <th>SleepTime</th>\n",
              "      <td>319795.0</td>\n",
              "      <td>NaN</td>\n",
              "      <td>NaN</td>\n",
              "      <td>NaN</td>\n",
              "      <td>7.097075</td>\n",
              "      <td>1.436007</td>\n",
              "      <td>1.0</td>\n",
              "      <td>6.0</td>\n",
              "      <td>7.0</td>\n",
              "      <td>8.0</td>\n",
              "      <td>24.0</td>\n",
              "    </tr>\n",
              "    <tr>\n",
              "      <th>Asthma</th>\n",
              "      <td>319795</td>\n",
              "      <td>2</td>\n",
              "      <td>No</td>\n",
              "      <td>276923</td>\n",
              "      <td>NaN</td>\n",
              "      <td>NaN</td>\n",
              "      <td>NaN</td>\n",
              "      <td>NaN</td>\n",
              "      <td>NaN</td>\n",
              "      <td>NaN</td>\n",
              "      <td>NaN</td>\n",
              "    </tr>\n",
              "    <tr>\n",
              "      <th>KidneyDisease</th>\n",
              "      <td>319795</td>\n",
              "      <td>2</td>\n",
              "      <td>No</td>\n",
              "      <td>308016</td>\n",
              "      <td>NaN</td>\n",
              "      <td>NaN</td>\n",
              "      <td>NaN</td>\n",
              "      <td>NaN</td>\n",
              "      <td>NaN</td>\n",
              "      <td>NaN</td>\n",
              "      <td>NaN</td>\n",
              "    </tr>\n",
              "    <tr>\n",
              "      <th>SkinCancer</th>\n",
              "      <td>319795</td>\n",
              "      <td>2</td>\n",
              "      <td>No</td>\n",
              "      <td>289976</td>\n",
              "      <td>NaN</td>\n",
              "      <td>NaN</td>\n",
              "      <td>NaN</td>\n",
              "      <td>NaN</td>\n",
              "      <td>NaN</td>\n",
              "      <td>NaN</td>\n",
              "      <td>NaN</td>\n",
              "    </tr>\n",
              "  </tbody>\n",
              "</table>\n",
              "</div>"
            ],
            "text/plain": [
              "                     count unique        top    freq       mean       std  \\\n",
              "HeartDisease        319795      2         No  292422        NaN       NaN   \n",
              "BMI               319795.0    NaN        NaN     NaN  28.325399    6.3561   \n",
              "Smoking             319795      2         No  187887        NaN       NaN   \n",
              "AlcoholDrinking     319795      2         No  298018        NaN       NaN   \n",
              "Stroke              319795      2         No  307726        NaN       NaN   \n",
              "PhysicalHealth    319795.0    NaN        NaN     NaN    3.37171   7.95085   \n",
              "MentalHealth      319795.0    NaN        NaN     NaN   3.898366  7.955235   \n",
              "DiffWalking         319795      2         No  275385        NaN       NaN   \n",
              "Sex                 319795      2     Female  167805        NaN       NaN   \n",
              "AgeCategory         319795     13      65-69   34151        NaN       NaN   \n",
              "Race                319795      6      White  245212        NaN       NaN   \n",
              "Diabetic            319795      4         No  269653        NaN       NaN   \n",
              "PhysicalActivity    319795      2        Yes  247957        NaN       NaN   \n",
              "GenHealth           319795      5  Very good  113858        NaN       NaN   \n",
              "SleepTime         319795.0    NaN        NaN     NaN   7.097075  1.436007   \n",
              "Asthma              319795      2         No  276923        NaN       NaN   \n",
              "KidneyDisease       319795      2         No  308016        NaN       NaN   \n",
              "SkinCancer          319795      2         No  289976        NaN       NaN   \n",
              "\n",
              "                    min    25%    50%    75%    max  \n",
              "HeartDisease        NaN    NaN    NaN    NaN    NaN  \n",
              "BMI               12.02  24.03  27.34  31.42  94.85  \n",
              "Smoking             NaN    NaN    NaN    NaN    NaN  \n",
              "AlcoholDrinking     NaN    NaN    NaN    NaN    NaN  \n",
              "Stroke              NaN    NaN    NaN    NaN    NaN  \n",
              "PhysicalHealth      0.0    0.0    0.0    2.0   30.0  \n",
              "MentalHealth        0.0    0.0    0.0    3.0   30.0  \n",
              "DiffWalking         NaN    NaN    NaN    NaN    NaN  \n",
              "Sex                 NaN    NaN    NaN    NaN    NaN  \n",
              "AgeCategory         NaN    NaN    NaN    NaN    NaN  \n",
              "Race                NaN    NaN    NaN    NaN    NaN  \n",
              "Diabetic            NaN    NaN    NaN    NaN    NaN  \n",
              "PhysicalActivity    NaN    NaN    NaN    NaN    NaN  \n",
              "GenHealth           NaN    NaN    NaN    NaN    NaN  \n",
              "SleepTime           1.0    6.0    7.0    8.0   24.0  \n",
              "Asthma              NaN    NaN    NaN    NaN    NaN  \n",
              "KidneyDisease       NaN    NaN    NaN    NaN    NaN  \n",
              "SkinCancer          NaN    NaN    NaN    NaN    NaN  "
            ]
          },
          "execution_count": 4,
          "metadata": {},
          "output_type": "execute_result"
        }
      ],
      "source": [
        "data.describe(include='all').T"
      ],
      "id": "NzVzngwognhw"
    },
    {
      "cell_type": "markdown",
      "metadata": {
        "papermill": {
          "duration": 0.031065,
          "end_time": "2022-04-04T08:03:52.056984",
          "exception": false,
          "start_time": "2022-04-04T08:03:52.025919",
          "status": "completed"
        },
        "tags": [],
        "id": "Y7_N93Fqgnhw"
      },
      "source": [
        "# remove outliers"
      ],
      "id": "Y7_N93Fqgnhw"
    },
    {
      "cell_type": "code",
      "execution_count": null,
      "metadata": {
        "execution": {
          "iopub.execute_input": "2022-04-04T08:03:52.124390Z",
          "iopub.status.busy": "2022-04-04T08:03:52.123609Z",
          "iopub.status.idle": "2022-04-04T08:03:52.132850Z",
          "shell.execute_reply": "2022-04-04T08:03:52.132397Z",
          "shell.execute_reply.started": "2022-04-04T07:28:18.786761Z"
        },
        "papermill": {
          "duration": 0.0446,
          "end_time": "2022-04-04T08:03:52.132958",
          "exception": false,
          "start_time": "2022-04-04T08:03:52.088358",
          "status": "completed"
        },
        "tags": [],
        "id": "LDfDO65Tgnhw",
        "outputId": "343310d4-aa67-40fc-c5e5-5e2c5f361777"
      },
      "outputs": [
        {
          "data": {
            "text/plain": [
              "(15.07, 40.18)"
            ]
          },
          "execution_count": 5,
          "metadata": {},
          "output_type": "execute_result"
        }
      ],
      "source": [
        "min_thresold, max_thresold = data.BMI.quantile([0.001, 0.95])\n",
        "min_thresold, max_thresold"
      ],
      "id": "LDfDO65Tgnhw"
    },
    {
      "cell_type": "code",
      "execution_count": null,
      "metadata": {
        "execution": {
          "iopub.execute_input": "2022-04-04T08:03:52.199238Z",
          "iopub.status.busy": "2022-04-04T08:03:52.198699Z",
          "iopub.status.idle": "2022-04-04T08:03:52.212773Z",
          "shell.execute_reply": "2022-04-04T08:03:52.212316Z",
          "shell.execute_reply.started": "2022-04-04T07:28:18.801351Z"
        },
        "papermill": {
          "duration": 0.048678,
          "end_time": "2022-04-04T08:03:52.212899",
          "exception": false,
          "start_time": "2022-04-04T08:03:52.164221",
          "status": "completed"
        },
        "tags": [],
        "id": "DjfCuo8agnhw",
        "outputId": "94c8aa07-7b15-45bb-e773-2a48ee1f692b"
      },
      "outputs": [
        {
          "data": {
            "text/plain": [
              "(15900, 18)"
            ]
          },
          "execution_count": 6,
          "metadata": {},
          "output_type": "execute_result"
        }
      ],
      "source": [
        "data[data.BMI>max_thresold].shape"
      ],
      "id": "DjfCuo8agnhw"
    },
    {
      "cell_type": "code",
      "execution_count": null,
      "metadata": {
        "execution": {
          "iopub.execute_input": "2022-04-04T08:03:52.280555Z",
          "iopub.status.busy": "2022-04-04T08:03:52.279698Z",
          "iopub.status.idle": "2022-04-04T08:03:52.287830Z",
          "shell.execute_reply": "2022-04-04T08:03:52.288244Z",
          "shell.execute_reply.started": "2022-04-04T07:28:18.819047Z"
        },
        "papermill": {
          "duration": 0.043993,
          "end_time": "2022-04-04T08:03:52.288362",
          "exception": false,
          "start_time": "2022-04-04T08:03:52.244369",
          "status": "completed"
        },
        "tags": [],
        "id": "0yTCgSV5gnhw",
        "outputId": "d4008221-dc4b-4603-b7f0-12f9124c2aa7"
      },
      "outputs": [
        {
          "data": {
            "text/plain": [
              "20.0"
            ]
          },
          "execution_count": 7,
          "metadata": {},
          "output_type": "execute_result"
        }
      ],
      "source": [
        "max_thresoldS = data.SleepTime.quantile( 0.9997)\n",
        "max_thresoldS"
      ],
      "id": "0yTCgSV5gnhw"
    },
    {
      "cell_type": "code",
      "execution_count": null,
      "metadata": {
        "execution": {
          "iopub.execute_input": "2022-04-04T08:03:52.372237Z",
          "iopub.status.busy": "2022-04-04T08:03:52.371364Z",
          "iopub.status.idle": "2022-04-04T08:03:52.377205Z",
          "shell.execute_reply": "2022-04-04T08:03:52.376764Z",
          "shell.execute_reply.started": "2022-04-04T07:28:18.831760Z"
        },
        "papermill": {
          "duration": 0.042517,
          "end_time": "2022-04-04T08:03:52.377308",
          "exception": false,
          "start_time": "2022-04-04T08:03:52.334791",
          "status": "completed"
        },
        "tags": [],
        "id": "aDl4j4d6gnhx",
        "outputId": "79d43ad4-b2de-4077-88a7-b581e513a279"
      },
      "outputs": [
        {
          "data": {
            "text/plain": [
              "(44, 18)"
            ]
          },
          "execution_count": 8,
          "metadata": {},
          "output_type": "execute_result"
        }
      ],
      "source": [
        "data[data.SleepTime>max_thresoldS].shape"
      ],
      "id": "aDl4j4d6gnhx"
    },
    {
      "cell_type": "code",
      "execution_count": null,
      "metadata": {
        "execution": {
          "iopub.execute_input": "2022-04-04T08:03:52.446957Z",
          "iopub.status.busy": "2022-04-04T08:03:52.446071Z",
          "iopub.status.idle": "2022-04-04T08:03:52.491682Z",
          "shell.execute_reply": "2022-04-04T08:03:52.492161Z",
          "shell.execute_reply.started": "2022-04-04T07:28:18.840606Z"
        },
        "papermill": {
          "duration": 0.082218,
          "end_time": "2022-04-04T08:03:52.492302",
          "exception": false,
          "start_time": "2022-04-04T08:03:52.410084",
          "status": "completed"
        },
        "tags": [],
        "id": "x308i0Wegnhx",
        "outputId": "0b03de73-a8c4-464a-abd5-bf57a9fbaf04"
      },
      "outputs": [
        {
          "data": {
            "text/plain": [
              "(303282, 18)"
            ]
          },
          "execution_count": 9,
          "metadata": {},
          "output_type": "execute_result"
        }
      ],
      "source": [
        "data=data[(data.SleepTime < max_thresoldS)&(data.BMI >min_thresold)&(data.BMI <max_thresold)]\n",
        "\n",
        "data.shape"
      ],
      "id": "x308i0Wegnhx"
    },
    {
      "cell_type": "markdown",
      "metadata": {
        "papermill": {
          "duration": 0.032273,
          "end_time": "2022-04-04T08:03:52.557591",
          "exception": false,
          "start_time": "2022-04-04T08:03:52.525318",
          "status": "completed"
        },
        "tags": [],
        "id": "GFPb3Qcbgnhx"
      },
      "source": [
        "# Remove duplicated"
      ],
      "id": "GFPb3Qcbgnhx"
    },
    {
      "cell_type": "code",
      "execution_count": null,
      "metadata": {
        "execution": {
          "iopub.execute_input": "2022-04-04T08:03:52.642561Z",
          "iopub.status.busy": "2022-04-04T08:03:52.641827Z",
          "iopub.status.idle": "2022-04-04T08:03:52.954688Z",
          "shell.execute_reply": "2022-04-04T08:03:52.955188Z",
          "shell.execute_reply.started": "2022-04-04T07:28:18.894020Z"
        },
        "papermill": {
          "duration": 0.365362,
          "end_time": "2022-04-04T08:03:52.955339",
          "exception": false,
          "start_time": "2022-04-04T08:03:52.589977",
          "status": "completed"
        },
        "tags": [],
        "id": "m-STVYtTgnhx",
        "outputId": "25502eee-95f9-488c-be28-dc1af74005f5"
      },
      "outputs": [
        {
          "data": {
            "text/plain": [
              "18048"
            ]
          },
          "execution_count": 10,
          "metadata": {},
          "output_type": "execute_result"
        }
      ],
      "source": [
        "\n",
        "data.duplicated().sum()\n"
      ],
      "id": "m-STVYtTgnhx"
    },
    {
      "cell_type": "code",
      "execution_count": null,
      "metadata": {
        "execution": {
          "iopub.execute_input": "2022-04-04T08:03:53.030615Z",
          "iopub.status.busy": "2022-04-04T08:03:53.029923Z",
          "iopub.status.idle": "2022-04-04T08:03:53.689194Z",
          "shell.execute_reply": "2022-04-04T08:03:53.688754Z",
          "shell.execute_reply.started": "2022-04-04T07:28:19.279820Z"
        },
        "papermill": {
          "duration": 0.700594,
          "end_time": "2022-04-04T08:03:53.689314",
          "exception": false,
          "start_time": "2022-04-04T08:03:52.988720",
          "status": "completed"
        },
        "tags": [],
        "id": "AmtTjn0pgnhx",
        "outputId": "f5afb143-4342-4996-fb4d-7e449f33cb50"
      },
      "outputs": [
        {
          "data": {
            "text/plain": [
              "0"
            ]
          },
          "execution_count": 11,
          "metadata": {},
          "output_type": "execute_result"
        }
      ],
      "source": [
        "data.drop_duplicates(inplace=True)\n",
        "data.duplicated().sum()"
      ],
      "id": "AmtTjn0pgnhx"
    },
    {
      "cell_type": "code",
      "execution_count": null,
      "metadata": {
        "execution": {
          "iopub.execute_input": "2022-04-04T08:03:53.760340Z",
          "iopub.status.busy": "2022-04-04T08:03:53.759586Z",
          "iopub.status.idle": "2022-04-04T08:03:54.119465Z",
          "shell.execute_reply": "2022-04-04T08:03:54.120035Z",
          "shell.execute_reply.started": "2022-04-04T07:28:19.960834Z"
        },
        "papermill": {
          "duration": 0.397164,
          "end_time": "2022-04-04T08:03:54.120189",
          "exception": false,
          "start_time": "2022-04-04T08:03:53.723025",
          "status": "completed"
        },
        "tags": [],
        "id": "QGGjP1apgnhx",
        "outputId": "f75c6b6c-f4ea-41ab-c334-3a26025239b4"
      },
      "outputs": [
        {
          "data": {
            "text/plain": [
              "HeartDisease        0\n",
              "BMI                 0\n",
              "Smoking             0\n",
              "AlcoholDrinking     0\n",
              "Stroke              0\n",
              "PhysicalHealth      0\n",
              "MentalHealth        0\n",
              "DiffWalking         0\n",
              "Sex                 0\n",
              "AgeCategory         0\n",
              "Race                0\n",
              "Diabetic            0\n",
              "PhysicalActivity    0\n",
              "GenHealth           0\n",
              "SleepTime           0\n",
              "Asthma              0\n",
              "KidneyDisease       0\n",
              "SkinCancer          0\n",
              "dtype: int64"
            ]
          },
          "execution_count": 12,
          "metadata": {},
          "output_type": "execute_result"
        }
      ],
      "source": [
        "data.isna().sum()"
      ],
      "id": "QGGjP1apgnhx"
    },
    {
      "cell_type": "code",
      "execution_count": null,
      "metadata": {
        "execution": {
          "iopub.execute_input": "2022-04-04T08:03:54.192905Z",
          "iopub.status.busy": "2022-04-04T08:03:54.192128Z",
          "iopub.status.idle": "2022-04-04T08:03:54.560948Z",
          "shell.execute_reply": "2022-04-04T08:03:54.561398Z",
          "shell.execute_reply.started": "2022-04-04T07:28:20.331954Z"
        },
        "papermill": {
          "duration": 0.407192,
          "end_time": "2022-04-04T08:03:54.561546",
          "exception": false,
          "start_time": "2022-04-04T08:03:54.154354",
          "status": "completed"
        },
        "tags": [],
        "id": "3fZk18AGgnhy",
        "outputId": "c933114b-88da-4009-95db-9917b4959392"
      },
      "outputs": [
        {
          "name": "stdout",
          "output_type": "stream",
          "text": [
            "<class 'pandas.core.frame.DataFrame'>\n",
            "Int64Index: 285234 entries, 0 to 319793\n",
            "Data columns (total 18 columns):\n",
            " #   Column            Non-Null Count   Dtype  \n",
            "---  ------            --------------   -----  \n",
            " 0   HeartDisease      285234 non-null  object \n",
            " 1   BMI               285234 non-null  float64\n",
            " 2   Smoking           285234 non-null  object \n",
            " 3   AlcoholDrinking   285234 non-null  object \n",
            " 4   Stroke            285234 non-null  object \n",
            " 5   PhysicalHealth    285234 non-null  float64\n",
            " 6   MentalHealth      285234 non-null  float64\n",
            " 7   DiffWalking       285234 non-null  object \n",
            " 8   Sex               285234 non-null  object \n",
            " 9   AgeCategory       285234 non-null  object \n",
            " 10  Race              285234 non-null  object \n",
            " 11  Diabetic          285234 non-null  object \n",
            " 12  PhysicalActivity  285234 non-null  object \n",
            " 13  GenHealth         285234 non-null  object \n",
            " 14  SleepTime         285234 non-null  float64\n",
            " 15  Asthma            285234 non-null  object \n",
            " 16  KidneyDisease     285234 non-null  object \n",
            " 17  SkinCancer        285234 non-null  object \n",
            "dtypes: float64(4), object(14)\n",
            "memory usage: 41.3+ MB\n"
          ]
        }
      ],
      "source": [
        "data.info()"
      ],
      "id": "3fZk18AGgnhy"
    },
    {
      "cell_type": "code",
      "execution_count": null,
      "metadata": {
        "execution": {
          "iopub.execute_input": "2022-04-04T08:03:54.673332Z",
          "iopub.status.busy": "2022-04-04T08:03:54.671677Z",
          "iopub.status.idle": "2022-04-04T08:03:54.675909Z",
          "shell.execute_reply": "2022-04-04T08:03:54.676314Z",
          "shell.execute_reply.started": "2022-04-04T07:28:20.707251Z"
        },
        "papermill": {
          "duration": 0.080942,
          "end_time": "2022-04-04T08:03:54.676445",
          "exception": false,
          "start_time": "2022-04-04T08:03:54.595503",
          "status": "completed"
        },
        "tags": [],
        "id": "yDIUX-MPgnhy",
        "outputId": "88952826-e4c5-4188-d203-fafbb0191b68"
      },
      "outputs": [
        {
          "data": {
            "text/plain": [
              "No                         240826\n",
              "Yes                         35881\n",
              "No, borderline diabetes      6162\n",
              "Yes (during pregnancy)       2365\n",
              "Name: Diabetic, dtype: int64"
            ]
          },
          "execution_count": 14,
          "metadata": {},
          "output_type": "execute_result"
        }
      ],
      "source": [
        "data['Diabetic'].value_counts()"
      ],
      "id": "yDIUX-MPgnhy"
    },
    {
      "cell_type": "code",
      "execution_count": null,
      "metadata": {
        "execution": {
          "iopub.execute_input": "2022-04-04T08:03:54.751382Z",
          "iopub.status.busy": "2022-04-04T08:03:54.750385Z",
          "iopub.status.idle": "2022-04-04T08:03:56.446529Z",
          "shell.execute_reply": "2022-04-04T08:03:56.445969Z",
          "shell.execute_reply.started": "2022-04-04T07:28:20.754451Z"
        },
        "papermill": {
          "duration": 1.735747,
          "end_time": "2022-04-04T08:03:56.446655",
          "exception": false,
          "start_time": "2022-04-04T08:03:54.710908",
          "status": "completed"
        },
        "tags": [],
        "id": "tRtwlXU3gnhy"
      },
      "outputs": [],
      "source": [
        "data=data.replace(\"No\",0)\n",
        "data=data.replace(\"Yes\",1)\n",
        "data=data.replace(\"Male\",0)\n",
        "data=data.replace(\"Female\",1)\n",
        "data=data.replace(\"No, borderline diabetes\",0)\n",
        "data=data.replace(\"Yes (during pregnancy)\",1)\n"
      ],
      "id": "tRtwlXU3gnhy"
    },
    {
      "cell_type": "code",
      "execution_count": null,
      "metadata": {
        "execution": {
          "iopub.execute_input": "2022-04-04T08:03:56.520553Z",
          "iopub.status.busy": "2022-04-04T08:03:56.519590Z",
          "iopub.status.idle": "2022-04-04T08:03:56.611273Z",
          "shell.execute_reply": "2022-04-04T08:03:56.611812Z",
          "shell.execute_reply.started": "2022-04-04T07:28:22.652169Z"
        },
        "papermill": {
          "duration": 0.130877,
          "end_time": "2022-04-04T08:03:56.611968",
          "exception": false,
          "start_time": "2022-04-04T08:03:56.481091",
          "status": "completed"
        },
        "tags": [],
        "id": "gav_TO-qgnhy",
        "outputId": "20a12176-db9b-4b0e-e55e-b3dbedc6788a"
      },
      "outputs": [
        {
          "name": "stdout",
          "output_type": "stream",
          "text": [
            "<class 'pandas.core.frame.DataFrame'>\n",
            "Int64Index: 285234 entries, 0 to 319793\n",
            "Data columns (total 18 columns):\n",
            " #   Column            Non-Null Count   Dtype  \n",
            "---  ------            --------------   -----  \n",
            " 0   HeartDisease      285234 non-null  int64  \n",
            " 1   BMI               285234 non-null  float64\n",
            " 2   Smoking           285234 non-null  int64  \n",
            " 3   AlcoholDrinking   285234 non-null  int64  \n",
            " 4   Stroke            285234 non-null  int64  \n",
            " 5   PhysicalHealth    285234 non-null  float64\n",
            " 6   MentalHealth      285234 non-null  float64\n",
            " 7   DiffWalking       285234 non-null  int64  \n",
            " 8   Sex               285234 non-null  int64  \n",
            " 9   AgeCategory       285234 non-null  object \n",
            " 10  Race              285234 non-null  object \n",
            " 11  Diabetic          285234 non-null  int64  \n",
            " 12  PhysicalActivity  285234 non-null  int64  \n",
            " 13  GenHealth         285234 non-null  object \n",
            " 14  SleepTime         285234 non-null  float64\n",
            " 15  Asthma            285234 non-null  int64  \n",
            " 16  KidneyDisease     285234 non-null  int64  \n",
            " 17  SkinCancer        285234 non-null  int64  \n",
            "dtypes: float64(4), int64(11), object(3)\n",
            "memory usage: 41.3+ MB\n"
          ]
        }
      ],
      "source": [
        "data.info()"
      ],
      "id": "gav_TO-qgnhy"
    },
    {
      "cell_type": "markdown",
      "metadata": {
        "papermill": {
          "duration": 0.034666,
          "end_time": "2022-04-04T08:03:56.681536",
          "exception": false,
          "start_time": "2022-04-04T08:03:56.646870",
          "status": "completed"
        },
        "tags": [],
        "id": "JKv6zC0qgnhy"
      },
      "source": [
        "# categorical features"
      ],
      "id": "JKv6zC0qgnhy"
    },
    {
      "cell_type": "code",
      "execution_count": null,
      "metadata": {
        "execution": {
          "iopub.execute_input": "2022-04-04T08:03:56.793650Z",
          "iopub.status.busy": "2022-04-04T08:03:56.792974Z",
          "iopub.status.idle": "2022-04-04T08:03:56.795628Z",
          "shell.execute_reply": "2022-04-04T08:03:56.796045Z",
          "shell.execute_reply.started": "2022-04-04T07:28:22.751656Z"
        },
        "papermill": {
          "duration": 0.080016,
          "end_time": "2022-04-04T08:03:56.796172",
          "exception": false,
          "start_time": "2022-04-04T08:03:56.716156",
          "status": "completed"
        },
        "tags": [],
        "id": "BAxvPgo5gnhy",
        "outputId": "b89c58ea-ea30-4629-db22-082e70f9c50a"
      },
      "outputs": [
        {
          "data": {
            "text/plain": [
              "65-69          29950\n",
              "60-64          29379\n",
              "70-74          28089\n",
              "55-59          25806\n",
              "80 or older    23014\n",
              "50-54          22002\n",
              "75-79          20111\n",
              "18-24          19352\n",
              "45-49          18929\n",
              "40-44          18330\n",
              "35-39          18132\n",
              "30-34          16776\n",
              "25-29          15364\n",
              "Name: AgeCategory, dtype: int64"
            ]
          },
          "execution_count": 17,
          "metadata": {},
          "output_type": "execute_result"
        }
      ],
      "source": [
        "data['AgeCategory'].value_counts()"
      ],
      "id": "BAxvPgo5gnhy"
    },
    {
      "cell_type": "code",
      "execution_count": null,
      "metadata": {
        "execution": {
          "iopub.execute_input": "2022-04-04T08:03:56.869270Z",
          "iopub.status.busy": "2022-04-04T08:03:56.868357Z",
          "iopub.status.idle": "2022-04-04T08:03:57.432474Z",
          "shell.execute_reply": "2022-04-04T08:03:57.432918Z",
          "shell.execute_reply.started": "2022-04-04T07:28:22.796906Z"
        },
        "papermill": {
          "duration": 0.601693,
          "end_time": "2022-04-04T08:03:57.433081",
          "exception": false,
          "start_time": "2022-04-04T08:03:56.831388",
          "status": "completed"
        },
        "tags": [],
        "id": "AGwdfmzcgnhy",
        "outputId": "b74de5fd-30f2-4fbf-a79c-8dcf320acce8"
      },
      "outputs": [
        {
          "data": {
            "text/plain": [
              "(array([ 0,  1,  2,  3,  4,  5,  6,  7,  8,  9, 10, 11, 12]),\n",
              " [Text(0, 0, '55-59'),\n",
              "  Text(1, 0, '80 or older'),\n",
              "  Text(2, 0, '65-69'),\n",
              "  Text(3, 0, '75-79'),\n",
              "  Text(4, 0, '40-44'),\n",
              "  Text(5, 0, '70-74'),\n",
              "  Text(6, 0, '60-64'),\n",
              "  Text(7, 0, '50-54'),\n",
              "  Text(8, 0, '45-49'),\n",
              "  Text(9, 0, '18-24'),\n",
              "  Text(10, 0, '35-39'),\n",
              "  Text(11, 0, '25-29'),\n",
              "  Text(12, 0, '30-34')])"
            ]
          },
          "execution_count": 18,
          "metadata": {},
          "output_type": "execute_result"
        },
        {
          "data": {
            "image/png": "[encoded data removed]",
            "text/plain": [
              "<Figure size 1440x720 with 1 Axes>"
            ]
          },
          "metadata": {
            "needs_background": "light"
          },
          "output_type": "display_data"
        }
      ],
      "source": [
        "plt.rcParams['figure.figsize'] = (20, 10)\n",
        "sns.countplot(x='AgeCategory',data=data)\n",
        "plt.xticks(rotation=70)"
      ],
      "id": "AGwdfmzcgnhy"
    },
    {
      "cell_type": "code",
      "execution_count": null,
      "metadata": {
        "execution": {
          "iopub.execute_input": "2022-04-04T08:03:57.552336Z",
          "iopub.status.busy": "2022-04-04T08:03:57.551238Z",
          "iopub.status.idle": "2022-04-04T08:03:57.554301Z",
          "shell.execute_reply": "2022-04-04T08:03:57.554684Z",
          "shell.execute_reply.started": "2022-04-04T07:28:23.374731Z"
        },
        "papermill": {
          "duration": 0.08483,
          "end_time": "2022-04-04T08:03:57.554845",
          "exception": false,
          "start_time": "2022-04-04T08:03:57.470015",
          "status": "completed"
        },
        "tags": [],
        "id": "e6wf_20sgnhy",
        "outputId": "ae813ea3-523c-43f7-8c15-496ea44737b0"
      },
      "outputs": [
        {
          "data": {
            "text/plain": [
              "Very good    101375\n",
              "Good          84707\n",
              "Excellent     58670\n",
              "Fair          30661\n",
              "Poor           9821\n",
              "Name: GenHealth, dtype: int64"
            ]
          },
          "execution_count": 19,
          "metadata": {},
          "output_type": "execute_result"
        }
      ],
      "source": [
        "data['GenHealth'].value_counts()"
      ],
      "id": "e6wf_20sgnhy"
    },
    {
      "cell_type": "code",
      "execution_count": null,
      "metadata": {
        "execution": {
          "iopub.execute_input": "2022-04-04T08:03:57.670005Z",
          "iopub.status.busy": "2022-04-04T08:03:57.656506Z",
          "iopub.status.idle": "2022-04-04T08:03:58.100231Z",
          "shell.execute_reply": "2022-04-04T08:03:58.099779Z",
          "shell.execute_reply.started": "2022-04-04T07:28:23.420528Z"
        },
        "papermill": {
          "duration": 0.509129,
          "end_time": "2022-04-04T08:03:58.100352",
          "exception": false,
          "start_time": "2022-04-04T08:03:57.591223",
          "status": "completed"
        },
        "tags": [],
        "id": "tiJ0vEETgnhy",
        "outputId": "0511326b-54ae-4249-897c-f1fabf9ed144"
      },
      "outputs": [
        {
          "data": {
            "text/plain": [
              "(array([0, 1, 2, 3, 4]),\n",
              " [Text(0, 0, 'Very good'),\n",
              "  Text(1, 0, 'Fair'),\n",
              "  Text(2, 0, 'Good'),\n",
              "  Text(3, 0, 'Poor'),\n",
              "  Text(4, 0, 'Excellent')])"
            ]
          },
          "execution_count": 20,
          "metadata": {},
          "output_type": "execute_result"
        },
        {
          "data": {
            "image/png": "[encoded data removed]",
            "text/plain": [
              "<Figure size 1440x720 with 1 Axes>"
            ]
          },
          "metadata": {
            "needs_background": "light"
          },
          "output_type": "display_data"
        }
      ],
      "source": [
        "plt.rcParams['figure.figsize'] = (20, 10)\n",
        "sns.countplot(x='GenHealth',data=data)\n",
        "plt.xticks(rotation=70)"
      ],
      "id": "tiJ0vEETgnhy"
    },
    {
      "cell_type": "code",
      "execution_count": null,
      "metadata": {
        "execution": {
          "iopub.execute_input": "2022-04-04T08:03:58.184048Z",
          "iopub.status.busy": "2022-04-04T08:03:58.183295Z",
          "iopub.status.idle": "2022-04-04T08:03:59.637919Z",
          "shell.execute_reply": "2022-04-04T08:03:59.638299Z",
          "shell.execute_reply.started": "2022-04-04T07:28:23.901861Z"
        },
        "papermill": {
          "duration": 1.49968,
          "end_time": "2022-04-04T08:03:59.638456",
          "exception": false,
          "start_time": "2022-04-04T08:03:58.138776",
          "status": "completed"
        },
        "tags": [],
        "id": "hStFIemwgnhy",
        "outputId": "7a621e7f-18e8-414b-e75c-1d0bae8b28db"
      },
      "outputs": [
        {
          "name": "stdout",
          "output_type": "stream",
          "text": [
            "<class 'pandas.core.frame.DataFrame'>\n",
            "Int64Index: 285234 entries, 0 to 319793\n",
            "Data columns (total 18 columns):\n",
            " #   Column            Non-Null Count   Dtype  \n",
            "---  ------            --------------   -----  \n",
            " 0   HeartDisease      285234 non-null  int64  \n",
            " 1   BMI               285234 non-null  float64\n",
            " 2   Smoking           285234 non-null  int64  \n",
            " 3   AlcoholDrinking   285234 non-null  int64  \n",
            " 4   Stroke            285234 non-null  int64  \n",
            " 5   PhysicalHealth    285234 non-null  float64\n",
            " 6   MentalHealth      285234 non-null  float64\n",
            " 7   DiffWalking       285234 non-null  int64  \n",
            " 8   Sex               285234 non-null  int64  \n",
            " 9   AgeCategory       285234 non-null  float64\n",
            " 10  Race              285234 non-null  float64\n",
            " 11  Diabetic          285234 non-null  int64  \n",
            " 12  PhysicalActivity  285234 non-null  int64  \n",
            " 13  GenHealth         285234 non-null  float64\n",
            " 14  SleepTime         285234 non-null  float64\n",
            " 15  Asthma            285234 non-null  int64  \n",
            " 16  KidneyDisease     285234 non-null  int64  \n",
            " 17  SkinCancer        285234 non-null  int64  \n",
            "dtypes: float64(7), int64(11)\n",
            "memory usage: 49.4 MB\n"
          ]
        }
      ],
      "source": [
        "from category_encoders import TargetEncoder\n",
        "Encoder=TargetEncoder()\n",
        "Encoder.fit(X=data['GenHealth'],y=data['HeartDisease'])\n",
        "data['GenHealth'] = Encoder.transform(X=data['GenHealth'],y=data['HeartDisease'])\n",
        "Encoder1=TargetEncoder()\n",
        "Encoder1.fit(X=data['AgeCategory'],y=data['HeartDisease'])\n",
        "data['AgeCategory'] = Encoder1.transform(X=data['AgeCategory'],y=data['HeartDisease'])\n",
        "Encoder2=TargetEncoder()\n",
        "Encoder2.fit(X=data['Race'],y=data['HeartDisease'])\n",
        "data['Race'] = Encoder2.transform(X=data['Race'],y=data['HeartDisease'])\n",
        "\n",
        "data.info()"
      ],
      "id": "hStFIemwgnhy"
    },
    {
      "cell_type": "code",
      "execution_count": null,
      "metadata": {
        "execution": {
          "iopub.execute_input": "2022-04-04T08:03:59.722796Z",
          "iopub.status.busy": "2022-04-04T08:03:59.721324Z",
          "iopub.status.idle": "2022-04-04T08:04:02.437104Z",
          "shell.execute_reply": "2022-04-04T08:04:02.437506Z",
          "shell.execute_reply.started": "2022-04-04T07:28:25.308680Z"
        },
        "papermill": {
          "duration": 2.760651,
          "end_time": "2022-04-04T08:04:02.437644",
          "exception": false,
          "start_time": "2022-04-04T08:03:59.676993",
          "status": "completed"
        },
        "tags": [],
        "id": "HnSWUzOLgnhy",
        "outputId": "8889242a-c89d-4086-afc3-2fb3797e4c35"
      },
      "outputs": [
        {
          "data": {
            "image/png": "[encoded data removed]",
            "text/plain": [
              "<Figure size 864x576 with 2 Axes>"
            ]
          },
          "metadata": {
            "needs_background": "light"
          },
          "output_type": "display_data"
        }
      ],
      "source": [
        "import seaborn as sns\n",
        "import matplotlib.pyplot as plt\n",
        "corr = data.corr()\n",
        "top_feature = corr.index\n",
        "plt.subplots(figsize=(12, 8))\n",
        "top_corr = data[top_feature].corr()\n",
        "sns.heatmap(top_corr, annot=True)\n",
        "plt.show()"
      ],
      "id": "HnSWUzOLgnhy"
    },
    {
      "cell_type": "markdown",
      "metadata": {
        "papermill": {
          "duration": 0.043309,
          "end_time": "2022-04-04T08:04:02.523785",
          "exception": false,
          "start_time": "2022-04-04T08:04:02.480476",
          "status": "completed"
        },
        "tags": [],
        "id": "miGpj00Lgnhy"
      },
      "source": [
        "# Normalize data"
      ],
      "id": "miGpj00Lgnhy"
    },
    {
      "cell_type": "code",
      "execution_count": null,
      "metadata": {
        "execution": {
          "iopub.execute_input": "2022-04-04T08:04:02.612778Z",
          "iopub.status.busy": "2022-04-04T08:04:02.612170Z",
          "iopub.status.idle": "2022-04-04T08:04:02.721300Z",
          "shell.execute_reply": "2022-04-04T08:04:02.720623Z",
          "shell.execute_reply.started": "2022-04-04T07:28:27.331707Z"
        },
        "papermill": {
          "duration": 0.155248,
          "end_time": "2022-04-04T08:04:02.721439",
          "exception": false,
          "start_time": "2022-04-04T08:04:02.566191",
          "status": "completed"
        },
        "tags": [],
        "id": "CBjFmjBggnhy"
      },
      "outputs": [],
      "source": [
        "from sklearn.preprocessing import StandardScaler\n",
        "scaler=StandardScaler().fit(data)\n",
        "rescaledX = scaler.transform(data)"
      ],
      "id": "CBjFmjBggnhy"
    },
    {
      "cell_type": "markdown",
      "metadata": {
        "papermill": {
          "duration": 0.042709,
          "end_time": "2022-04-04T08:04:02.807029",
          "exception": false,
          "start_time": "2022-04-04T08:04:02.764320",
          "status": "completed"
        },
        "tags": [],
        "id": "QOwnnEsvgnhy"
      },
      "source": [
        "#  Handle Imbalanced data\n",
        "reference:https://www.youtube.com/watch?v=JnlM4yLFNuo&t=993s"
      ],
      "id": "QOwnnEsvgnhy"
    },
    {
      "cell_type": "code",
      "execution_count": null,
      "metadata": {
        "execution": {
          "iopub.execute_input": "2022-04-04T08:04:02.899428Z",
          "iopub.status.busy": "2022-04-04T08:04:02.898570Z",
          "iopub.status.idle": "2022-04-04T08:04:03.094858Z",
          "shell.execute_reply": "2022-04-04T08:04:03.095234Z",
          "shell.execute_reply.started": "2022-04-04T07:28:27.450436Z"
        },
        "papermill": {
          "duration": 0.245056,
          "end_time": "2022-04-04T08:04:03.095376",
          "exception": false,
          "start_time": "2022-04-04T08:04:02.850320",
          "status": "completed"
        },
        "tags": [],
        "id": "xgXxX738gnhz",
        "outputId": "6910603e-52ec-4da2-ce1c-fb4196f8079b"
      },
      "outputs": [
        {
          "data": {
            "text/plain": [
              "(array([0, 1]), [Text(0, 0, '0'), Text(1, 0, '1')])"
            ]
          },
          "execution_count": 24,
          "metadata": {},
          "output_type": "execute_result"
        },
        {
          "data": {
            "image/png": "[encoded data removed]",
            "text/plain": [
              "<Figure size 1440x720 with 1 Axes>"
            ]
          },
          "metadata": {
            "needs_background": "light"
          },
          "output_type": "display_data"
        }
      ],
      "source": [
        "plt.rcParams['figure.figsize'] = (20, 10)\n",
        "sns.countplot(x='HeartDisease',data=data)\n",
        "plt.xticks(rotation=70)"
      ],
      "id": "xgXxX738gnhz"
    },
    {
      "cell_type": "markdown",
      "metadata": {
        "papermill": {
          "duration": 0.044293,
          "end_time": "2022-04-04T08:04:03.183359",
          "exception": false,
          "start_time": "2022-04-04T08:04:03.139066",
          "status": "completed"
        },
        "tags": [],
        "id": "H7UXSfrkgnhz"
      },
      "source": [
        "# Oversampling"
      ],
      "id": "H7UXSfrkgnhz"
    },
    {
      "cell_type": "code",
      "execution_count": null,
      "metadata": {
        "execution": {
          "iopub.execute_input": "2022-04-04T08:04:03.277424Z",
          "iopub.status.busy": "2022-04-04T08:04:03.276567Z",
          "iopub.status.idle": "2022-04-04T08:04:03.300597Z",
          "shell.execute_reply": "2022-04-04T08:04:03.301041Z",
          "shell.execute_reply.started": "2022-04-04T07:28:27.657784Z"
        },
        "papermill": {
          "duration": 0.074302,
          "end_time": "2022-04-04T08:04:03.301193",
          "exception": false,
          "start_time": "2022-04-04T08:04:03.226891",
          "status": "completed"
        },
        "tags": [],
        "id": "WzWiiAGDgnhz",
        "outputId": "4e16b5b2-0e69-4bc2-be5d-14114d5810ae"
      },
      "outputs": [
        {
          "name": "stdout",
          "output_type": "stream",
          "text": [
            "(259814, 18)\n",
            "(25420, 18)\n"
          ]
        }
      ],
      "source": [
        "# Class count\n",
        "count_class_0, count_class_1 = data.HeartDisease.value_counts()\n",
        "\n",
        "# Divide by class\n",
        "class_0 = data[data['HeartDisease'] == 0]\n",
        "class_1 = data[data['HeartDisease'] == 1]\n",
        "print(class_0.shape)\n",
        "print(class_1.shape)"
      ],
      "id": "WzWiiAGDgnhz"
    },
    {
      "cell_type": "code",
      "execution_count": null,
      "metadata": {
        "execution": {
          "iopub.execute_input": "2022-04-04T08:04:03.394890Z",
          "iopub.status.busy": "2022-04-04T08:04:03.394133Z",
          "iopub.status.idle": "2022-04-04T08:04:03.461376Z",
          "shell.execute_reply": "2022-04-04T08:04:03.462016Z",
          "shell.execute_reply.started": "2022-04-04T07:28:27.685144Z"
        },
        "papermill": {
          "duration": 0.116762,
          "end_time": "2022-04-04T08:04:03.462215",
          "exception": false,
          "start_time": "2022-04-04T08:04:03.345453",
          "status": "completed"
        },
        "tags": [],
        "id": "SG27jibYgnhz",
        "outputId": "79607211-7b79-4882-8a11-891216d3bab7"
      },
      "outputs": [
        {
          "name": "stdout",
          "output_type": "stream",
          "text": [
            "0    259814\n",
            "1    259814\n",
            "Name: HeartDisease, dtype: int64\n"
          ]
        }
      ],
      "source": [
        "class_1=class_1.sample(count_class_0,replace=True)\n",
        "data = pd.concat([class_0, class_1], axis=0)\n",
        "print(data.HeartDisease.value_counts())\n"
      ],
      "id": "SG27jibYgnhz"
    },
    {
      "cell_type": "code",
      "execution_count": null,
      "metadata": {
        "execution": {
          "iopub.execute_input": "2022-04-04T08:04:03.556818Z",
          "iopub.status.busy": "2022-04-04T08:04:03.556273Z",
          "iopub.status.idle": "2022-04-04T08:04:03.893056Z",
          "shell.execute_reply": "2022-04-04T08:04:03.892034Z",
          "shell.execute_reply.started": "2022-04-04T07:28:27.753809Z"
        },
        "papermill": {
          "duration": 0.385197,
          "end_time": "2022-04-04T08:04:03.893219",
          "exception": false,
          "start_time": "2022-04-04T08:04:03.508022",
          "status": "completed"
        },
        "tags": [],
        "id": "vT4LV0tQgnhz"
      },
      "outputs": [],
      "source": [
        "from sklearn.model_selection import train_test_split\n",
        "y=data['HeartDisease']#lable\n",
        "X=data.drop('HeartDisease',axis=1)\n",
        "X_train, X_test, Y_train, Y_test = train_test_split(X, y, test_size=0.2, random_state=15, stratify=y)"
      ],
      "id": "vT4LV0tQgnhz"
    },
    {
      "cell_type": "markdown",
      "metadata": {
        "papermill": {
          "duration": 0.044429,
          "end_time": "2022-04-04T08:04:03.982940",
          "exception": false,
          "start_time": "2022-04-04T08:04:03.938511",
          "status": "completed"
        },
        "tags": [],
        "id": "ZKUEuSMLgnhz"
      },
      "source": [
        "# LogisticRegression"
      ],
      "id": "ZKUEuSMLgnhz"
    },
    {
      "cell_type": "code",
      "execution_count": null,
      "metadata": {
        "execution": {
          "iopub.execute_input": "2022-04-04T08:04:04.077249Z",
          "iopub.status.busy": "2022-04-04T08:04:04.076604Z",
          "iopub.status.idle": "2022-04-04T08:04:09.574000Z",
          "shell.execute_reply": "2022-04-04T08:04:09.573014Z",
          "shell.execute_reply.started": "2022-04-04T07:28:28.100378Z"
        },
        "papermill": {
          "duration": 5.546422,
          "end_time": "2022-04-04T08:04:09.574211",
          "exception": false,
          "start_time": "2022-04-04T08:04:04.027789",
          "status": "completed"
        },
        "tags": [],
        "id": "3RpEbqJRgnhz",
        "outputId": "c61743c0-1454-4de7-89cf-5c644b038cb8"
      },
      "outputs": [
        {
          "name": "stderr",
          "output_type": "stream",
          "text": [
            "/opt/conda/lib/python3.7/site-packages/sklearn/linear_model/_logistic.py:818: ConvergenceWarning: lbfgs failed to converge (status=1):\n",
            "STOP: TOTAL NO. of ITERATIONS REACHED LIMIT.\n",
            "\n",
            "Increase the number of iterations (max_iter) or scale the data as shown in:\n",
            "    https://scikit-learn.org/stable/modules/preprocessing.html\n",
            "Please also refer to the documentation for alternative solver options:\n",
            "    https://scikit-learn.org/stable/modules/linear_model.html#logistic-regression\n",
            "  extra_warning_msg=_LOGISTIC_SOLVER_CONVERGENCE_MSG,\n"
          ]
        },
        {
          "name": "stdout",
          "output_type": "stream",
          "text": [
            "Mean Square Error testing model 1  0.246136674172007\n",
            "Classification Report: \n",
            "               precision    recall  f1-score   support\n",
            "\n",
            "           0       0.75      0.76      0.76     51963\n",
            "           1       0.76      0.75      0.75     51963\n",
            "\n",
            "    accuracy                           0.75    103926\n",
            "   macro avg       0.75      0.75      0.75    103926\n",
            "weighted avg       0.75      0.75      0.75    103926\n",
            "\n"
          ]
        }
      ],
      "source": [
        "from sklearn.linear_model import LogisticRegression\n",
        "from sklearn.metrics import accuracy_score\n",
        "from sklearn.metrics import confusion_matrix , classification_report\n",
        "from sklearn import metrics\n",
        "cls =LogisticRegression()\n",
        "cls.fit(X_train,Y_train)\n",
        "prediction = cls.predict((X_test))\n",
        "print('Mean Square Error testing model 1 ', metrics.mean_squared_error(Y_test, prediction))\n",
        "print(\"Classification Report: \\n\", classification_report(Y_test, prediction))\n"
      ],
      "id": "3RpEbqJRgnhz"
    },
    {
      "cell_type": "markdown",
      "metadata": {
        "papermill": {
          "duration": 0.045392,
          "end_time": "2022-04-04T08:04:09.667981",
          "exception": false,
          "start_time": "2022-04-04T08:04:09.622589",
          "status": "completed"
        },
        "tags": [],
        "id": "j5_ZPPYwgnhz"
      },
      "source": [
        "# KNN"
      ],
      "id": "j5_ZPPYwgnhz"
    },
    {
      "cell_type": "code",
      "execution_count": null,
      "metadata": {
        "execution": {
          "iopub.execute_input": "2022-04-04T08:04:09.762887Z",
          "iopub.status.busy": "2022-04-04T08:04:09.762287Z",
          "iopub.status.idle": "2022-04-04T08:18:11.529062Z",
          "shell.execute_reply": "2022-04-04T08:18:11.529691Z",
          "shell.execute_reply.started": "2022-04-04T07:28:34.054912Z"
        },
        "papermill": {
          "duration": 841.817156,
          "end_time": "2022-04-04T08:18:11.529936",
          "exception": false,
          "start_time": "2022-04-04T08:04:09.712780",
          "status": "completed"
        },
        "tags": [],
        "id": "T7hfwW_Wgnhz",
        "outputId": "8b63532c-a08e-48ff-c436-e8ac06418753"
      },
      "outputs": [
        {
          "name": "stdout",
          "output_type": "stream",
          "text": [
            "Mean Square Error testing model 1  0.1092027019225218\n",
            "Classification Report: \n",
            "               precision    recall  f1-score   support\n",
            "\n",
            "           0       0.99      0.79      0.88     51963\n",
            "           1       0.83      0.99      0.90     51963\n",
            "\n",
            "    accuracy                           0.89    103926\n",
            "   macro avg       0.91      0.89      0.89    103926\n",
            "weighted avg       0.91      0.89      0.89    103926\n",
            "\n"
          ]
        }
      ],
      "source": [
        "from sklearn.neighbors import KNeighborsClassifier\n",
        "from sklearn.metrics import accuracy_score\n",
        "from sklearn.metrics import confusion_matrix , classification_report\n",
        "from sklearn import metrics\n",
        "cls = KNeighborsClassifier(n_neighbors=5)\n",
        "cls.fit(X_train,Y_train)\n",
        "prediction = cls.predict((X_test))\n",
        "print('Mean Square Error testing model 1 ', metrics.mean_squared_error(Y_test, prediction))\n",
        "print(\"Classification Report: \\n\", classification_report(Y_test, prediction))\n"
      ],
      "id": "T7hfwW_Wgnhz"
    },
    {
      "cell_type": "code",
      "execution_count": null,
      "metadata": {
        "execution": {
          "iopub.execute_input": "2022-04-04T08:18:11.628556Z",
          "iopub.status.busy": "2022-04-04T08:18:11.627660Z",
          "iopub.status.idle": "2022-04-04T08:18:11.715327Z",
          "shell.execute_reply": "2022-04-04T08:18:11.714859Z",
          "shell.execute_reply.started": "2022-04-04T07:42:27.846287Z"
        },
        "papermill": {
          "duration": 0.138302,
          "end_time": "2022-04-04T08:18:11.715454",
          "exception": false,
          "start_time": "2022-04-04T08:18:11.577152",
          "status": "completed"
        },
        "tags": [],
        "id": "IRTfplOhgnhz"
      },
      "outputs": [],
      "source": [],
      "id": "IRTfplOhgnhz"
    },
    {
      "cell_type": "code",
      "execution_count": null,
      "metadata": {
        "execution": {
          "iopub.execute_input": "2022-04-04T08:18:11.811206Z",
          "iopub.status.busy": "2022-04-04T08:18:11.810389Z",
          "iopub.status.idle": "2022-04-04T08:18:11.886487Z",
          "shell.execute_reply": "2022-04-04T08:18:11.886019Z",
          "shell.execute_reply.started": "2022-04-04T07:41:57.308539Z"
        },
        "papermill": {
          "duration": 0.125322,
          "end_time": "2022-04-04T08:18:11.886613",
          "exception": false,
          "start_time": "2022-04-04T08:18:11.761291",
          "status": "completed"
        },
        "tags": [],
        "id": "4QrqTX4mgnh3"
      },
      "outputs": [],
      "source": [],
      "id": "4QrqTX4mgnh3"
    },
    {
      "cell_type": "code",
      "execution_count": null,
      "metadata": {
        "id": "mG8Ch9p9gnh3"
      },
      "outputs": [],
      "source": [],
      "id": "mG8Ch9p9gnh3"
    }
  ],
  "metadata": {
    "kernelspec": {
      "display_name": "Python 3",
      "language": "python",
      "name": "python3"
    },
    "language_info": {
      "codemirror_mode": {
        "name": "ipython",
        "version": 3
      },
      "file_extension": ".py",
      "mimetype": "text/x-python",
      "name": "python",
      "nbconvert_exporter": "python",
      "pygments_lexer": "ipython3",
      "version": "3.7.3"
    },
    "papermill": {
      "default_parameters": {},
      "duration": 871.753287,
      "end_time": "2022-04-04T08:18:12.543649",
      "environment_variables": {},
      "exception": null,
      "input_path": "__notebook__.ipynb",
      "output_path": "__notebook__.ipynb",
      "parameters": {},
      "start_time": "2022-04-04T08:03:40.790362",
      "version": "2.3.3"
    },
    "colab": {
      "provenance": []
    }
  },
  "nbformat": 4,
  "nbformat_minor": 5
}